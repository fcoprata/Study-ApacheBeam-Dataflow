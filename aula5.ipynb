{
 "cells": [
  {
   "cell_type": "code",
   "execution_count": 6,
   "metadata": {},
   "outputs": [],
   "source": [
    "import apache_beam as beam"
   ]
  },
  {
   "cell_type": "code",
   "execution_count": 7,
   "metadata": {},
   "outputs": [],
   "source": [
    "pipeline = beam.Pipeline()"
   ]
  },
  {
   "cell_type": "code",
   "execution_count": 8,
   "metadata": {},
   "outputs": [],
   "source": [
    "atrasos_voo_LA = (\n",
    "    pipeline\n",
    "    | \"ler os dados\" >> beam.io.ReadFromText(\"voos_sample.csv\")\n",
    "    | \"separa por virgulas\" >> beam.Map(lambda record: record.split(\",\"))\n",
    "    | \"pegar voos de Los \" >> beam.Filter(lambda record: int(record[8]) > 0)\n",
    "    | \"criar par\" >> beam.Map(lambda record: (record[4],int(record[8])))\n",
    "    | \"somar por key\" >> beam.combiners.Count.PerKey()\n",
    "    | \"mostrar resultados\" >> beam.Map(print)\n",
    ")"
   ]
  },
  {
   "cell_type": "code",
   "execution_count": 9,
   "metadata": {},
   "outputs": [
    {
     "name": "stdout",
     "output_type": "stream",
     "text": [
      "('LAX', 94)\n",
      "('HNL', 15)\n",
      "('DFW', 95)\n",
      "('OGG', 138)\n",
      "('JFK', 220)\n"
     ]
    },
    {
     "data": {
      "text/plain": [
       "<apache_beam.runners.portability.fn_api_runner.fn_runner.RunnerResult at 0x232eebdafb0>"
      ]
     },
     "execution_count": 9,
     "metadata": {},
     "output_type": "execute_result"
    }
   ],
   "source": [
    "pipeline.run()"
   ]
  }
 ],
 "metadata": {
  "kernelspec": {
   "display_name": "Python 3.10.4 64-bit",
   "language": "python",
   "name": "python3"
  },
  "language_info": {
   "codemirror_mode": {
    "name": "ipython",
    "version": 3
   },
   "file_extension": ".py",
   "mimetype": "text/x-python",
   "name": "python",
   "nbconvert_exporter": "python",
   "pygments_lexer": "ipython3",
   "version": "3.10.4"
  },
  "orig_nbformat": 4,
  "vscode": {
   "interpreter": {
    "hash": "03abb77cd8ea3955e46e950c67e8f53909da97870bfa14c5b9cae3cb0c9e580b"
   }
  }
 },
 "nbformat": 4,
 "nbformat_minor": 2
}
