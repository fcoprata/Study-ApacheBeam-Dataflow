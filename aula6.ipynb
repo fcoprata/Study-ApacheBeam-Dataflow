{
 "cells": [
  {
   "cell_type": "code",
   "execution_count": 19,
   "metadata": {},
   "outputs": [],
   "source": [
    "import apache_beam as beam"
   ]
  },
  {
   "cell_type": "code",
   "execution_count": 20,
   "metadata": {},
   "outputs": [],
   "source": [
    "pipeline = beam.Pipeline()"
   ]
  },
  {
   "cell_type": "code",
   "execution_count": 21,
   "metadata": {},
   "outputs": [],
   "source": [
    "tempos_de_atraso = (\n",
    "    pipeline\n",
    "    | \"ler dados\" >> beam.io.ReadFromText(\"voos_sample.csv\")\n",
    "    | \"separar por virgula\" >> beam.Map(lambda record: record.split(\",\"))\n",
    "    | \"fazer filtro de atraso\" >> beam.Filter(lambda record: int(record[8]) > 0)\n",
    "    | \"criando par\" >> beam.Map(lambda record: (record[4], int(record[8])))\n",
    "    | \"soma por key\" >> beam.CombinePerKey(sum)\n",
    "    | \"mostrar resultado\" >> beam.Map(print)\n",
    ")"
   ]
  },
  {
   "cell_type": "code",
   "execution_count": 22,
   "metadata": {},
   "outputs": [
    {
     "name": "stdout",
     "output_type": "stream",
     "text": [
      "('LAX', 94)\n",
      "('HNL', 15)\n",
      "('DFW', 95)\n",
      "('OGG', 138)\n",
      "('JFK', 220)\n"
     ]
    },
    {
     "data": {
      "text/plain": [
       "<apache_beam.runners.portability.fn_api_runner.fn_runner.RunnerResult at 0x1e9691be8c0>"
      ]
     },
     "execution_count": 22,
     "metadata": {},
     "output_type": "execute_result"
    }
   ],
   "source": [
    "pipeline.run()"
   ]
  }
 ],
 "metadata": {
  "kernelspec": {
   "display_name": "Python 3.10.3 64-bit",
   "language": "python",
   "name": "python3"
  },
  "language_info": {
   "codemirror_mode": {
    "name": "ipython",
    "version": 3
   },
   "file_extension": ".py",
   "mimetype": "text/x-python",
   "name": "python",
   "nbconvert_exporter": "python",
   "pygments_lexer": "ipython3",
   "version": "3.10.3"
  },
  "orig_nbformat": 4,
  "vscode": {
   "interpreter": {
    "hash": "a463c75c833c601cf0512c14890bcecf1eca7a9121e2e462c6d3fed430c5f2bd"
   }
  }
 },
 "nbformat": 4,
 "nbformat_minor": 2
}
