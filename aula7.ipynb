{
 "cells": [
  {
   "cell_type": "code",
   "execution_count": 13,
   "metadata": {},
   "outputs": [],
   "source": [
    "import apache_beam as beam"
   ]
  },
  {
   "cell_type": "code",
   "execution_count": 14,
   "metadata": {},
   "outputs": [],
   "source": [
    "pipeline = beam.Pipeline()"
   ]
  },
  {
   "cell_type": "code",
   "execution_count": 15,
   "metadata": {},
   "outputs": [],
   "source": [
    "tempos_de_atraso = (\n",
    "    pipeline\n",
    "    | \"ler dados\" >> beam.io.ReadFromText(\"voos_sample.csv\")\n",
    "    | \"separar por virgula\" >> beam.Map(lambda record: record.split(\",\"))\n",
    "    | \"fazer filtro de atraso\" >> beam.Filter(lambda record: int(record[8]) > 0)\n",
    "    | \"criando par\" >> beam.Map(lambda record: (record[4], int(record[8])))\n",
    "    | \"soma por key\" >> beam.CombinePerKey(sum)\n",
    ")\n",
    "\n",
    "quantidade_atraso = (\n",
    "    pipeline\n",
    "    | \"ler os dados\" >> beam.io.ReadFromText(\"voos_sample.csv\")\n",
    "    | \"separa por virgulas\" >> beam.Map(lambda record: record.split(\",\"))\n",
    "    | \"pegar voos de Los \" >> beam.Filter(lambda record: int(record[8]) > 0)\n",
    "    | \"criar par\" >> beam.Map(lambda record: (record[4],int(record[8])))\n",
    "    | \"somar por key\" >> beam.combiners.Count.PerKey()\n",
    ")\n",
    "\n",
    "tabela_atrasos = (\n",
    "    {\"Qtd_Atrasos\": quantidade_atraso,\"Tempo_Atraso\": tempos_de_atraso}\n",
    "    | \"Group By\" >> beam.CoGroupByKey()\n",
    "    | beam.Map(print)\n",
    ")\n"
   ]
  },
  {
   "cell_type": "code",
   "execution_count": 16,
   "metadata": {},
   "outputs": [
    {
     "name": "stdout",
     "output_type": "stream",
     "text": [
      "('LAX', {'Qtd_Atrasos': [5], 'Tempo_Atraso': [94]})\n",
      "('HNL', {'Qtd_Atrasos': [1], 'Tempo_Atraso': [15]})\n",
      "('DFW', {'Qtd_Atrasos': [1], 'Tempo_Atraso': [95]})\n",
      "('OGG', {'Qtd_Atrasos': [1], 'Tempo_Atraso': [138]})\n",
      "('JFK', {'Qtd_Atrasos': [4], 'Tempo_Atraso': [220]})\n"
     ]
    },
    {
     "data": {
      "text/plain": [
       "<apache_beam.runners.portability.fn_api_runner.fn_runner.RunnerResult at 0x2d00a12a710>"
      ]
     },
     "execution_count": 16,
     "metadata": {},
     "output_type": "execute_result"
    }
   ],
   "source": [
    "pipeline.run()"
   ]
  }
 ],
 "metadata": {
  "kernelspec": {
   "display_name": "Python 3.10.4 64-bit",
   "language": "python",
   "name": "python3"
  },
  "language_info": {
   "codemirror_mode": {
    "name": "ipython",
    "version": 3
   },
   "file_extension": ".py",
   "mimetype": "text/x-python",
   "name": "python",
   "nbconvert_exporter": "python",
   "pygments_lexer": "ipython3",
   "version": "3.10.4"
  },
  "orig_nbformat": 4,
  "vscode": {
   "interpreter": {
    "hash": "03abb77cd8ea3955e46e950c67e8f53909da97870bfa14c5b9cae3cb0c9e580b"
   }
  }
 },
 "nbformat": 4,
 "nbformat_minor": 2
}
